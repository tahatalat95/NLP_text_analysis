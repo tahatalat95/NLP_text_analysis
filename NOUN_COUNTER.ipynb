{
 "cells": [
  {
   "cell_type": "code",
   "execution_count": 15,
   "id": "1705d04f",
   "metadata": {},
   "outputs": [
    {
     "name": "stderr",
     "output_type": "stream",
     "text": [
      "[nltk_data] Downloading package averaged_perceptron_tagger to\n",
      "[nltk_data]     C:\\Users\\Administrator\\AppData\\Roaming\\nltk_data...\n",
      "[nltk_data]   Package averaged_perceptron_tagger is already up-to-\n",
      "[nltk_data]       date!\n"
     ]
    },
    {
     "data": {
      "text/plain": [
       "True"
      ]
     },
     "execution_count": 15,
     "metadata": {},
     "output_type": "execute_result"
    }
   ],
   "source": [
    "import nltk\n",
    "from nltk import pos_tag\n",
    "nltk.download('averaged_perceptron_tagger')"
   ]
  },
  {
   "cell_type": "code",
   "execution_count": 16,
   "id": "2b399bcc",
   "metadata": {},
   "outputs": [],
   "source": [
    "test_data = \"\"\"As recently as the 1990s, studies showed that most people preferred getting\n",
    "information from other people rather than from information retrieval systems. Of course, in that time period, most people also used human travel\n",
    "agents to book their travel. However, during the last decade, relentless optimization of information retrieval effectiveness has driven web search engines\n",
    "to new quality levels where most people are satisfied most of the time, and\n",
    "web search has become a standard and often preferred source of information\n",
    "finding. For example, the 2004 Pew Internet Survey (Fallows 2004) found\n",
    "that “92% of Internet users say the Internet is a good place to go for getting\n",
    "everyday information.” To the surprise of many, the field of information retrieval has moved from being a primarily academic discipline to being the\n",
    "basis underlying most people’s preferred means of information access. This\n",
    "book presents the scientific underpinnings of this field, at a level accessible\n",
    "to graduate students as well as advanced undergraduates.\"\"\""
   ]
  },
  {
   "cell_type": "code",
   "execution_count": 17,
   "id": "c491a3e8",
   "metadata": {},
   "outputs": [],
   "source": [
    "tag_list=pos_tag(test_data.split())"
   ]
  },
  {
   "cell_type": "code",
   "execution_count": 18,
   "id": "774640bf",
   "metadata": {},
   "outputs": [
    {
     "name": "stdout",
     "output_type": "stream",
     "text": [
      "[('As', 'RB'), ('recently', 'RB'), ('as', 'IN'), ('the', 'DT'), ('1990s,', 'CD'), ('studies', 'NNS'), ('showed', 'VBD'), ('that', 'IN'), ('most', 'JJS'), ('people', 'NNS'), ('preferred', 'VBD'), ('getting', 'VBG'), ('information', 'NN'), ('from', 'IN'), ('other', 'JJ'), ('people', 'NNS'), ('rather', 'RB'), ('than', 'IN'), ('from', 'IN'), ('information', 'NN'), ('retrieval', 'NN'), ('systems.', 'NN'), ('Of', 'IN'), ('course,', 'NN'), ('in', 'IN'), ('that', 'DT'), ('time', 'NN'), ('period,', 'VBZ'), ('most', 'JJS'), ('people', 'NNS'), ('also', 'RB'), ('used', 'VBD'), ('human', 'JJ'), ('travel', 'NN'), ('agents', 'NNS'), ('to', 'TO'), ('book', 'NN'), ('their', 'PRP$'), ('travel.', 'JJ'), ('However,', 'NNP'), ('during', 'IN'), ('the', 'DT'), ('last', 'JJ'), ('decade,', 'NN'), ('relentless', 'JJ'), ('optimization', 'NN'), ('of', 'IN'), ('information', 'NN'), ('retrieval', 'NN'), ('effectiveness', 'NN'), ('has', 'VBZ'), ('driven', 'VBN'), ('web', 'NNS'), ('search', 'VBP'), ('engines', 'NNS'), ('to', 'TO'), ('new', 'JJ'), ('quality', 'NN'), ('levels', 'NNS'), ('where', 'WRB'), ('most', 'JJS'), ('people', 'NNS'), ('are', 'VBP'), ('satisfied', 'JJ'), ('most', 'RBS'), ('of', 'IN'), ('the', 'DT'), ('time,', 'NN'), ('and', 'CC'), ('web', 'NN'), ('search', 'NN'), ('has', 'VBZ'), ('become', 'VBN'), ('a', 'DT'), ('standard', 'JJ'), ('and', 'CC'), ('often', 'RB'), ('preferred', 'JJ'), ('source', 'NN'), ('of', 'IN'), ('information', 'NN'), ('finding.', 'NN'), ('For', 'IN'), ('example,', 'WP'), ('the', 'DT'), ('2004', 'CD'), ('Pew', 'NNP'), ('Internet', 'NNP'), ('Survey', 'NNP'), ('(Fallows', 'VBZ'), ('2004)', 'CD'), ('found', 'NN'), ('that', 'IN'), ('“92%', 'NN'), ('of', 'IN'), ('Internet', 'NNP'), ('users', 'NNS'), ('say', 'VBP'), ('the', 'DT'), ('Internet', 'NNP'), ('is', 'VBZ'), ('a', 'DT'), ('good', 'JJ'), ('place', 'NN'), ('to', 'TO'), ('go', 'VB'), ('for', 'IN'), ('getting', 'VBG'), ('everyday', 'JJ'), ('information.”', 'NN'), ('To', 'TO'), ('the', 'DT'), ('surprise', 'NN'), ('of', 'IN'), ('many,', 'FW'), ('the', 'DT'), ('field', 'NN'), ('of', 'IN'), ('information', 'NN'), ('retrieval', 'NN'), ('has', 'VBZ'), ('moved', 'VBN'), ('from', 'IN'), ('being', 'VBG'), ('a', 'DT'), ('primarily', 'RB'), ('academic', 'JJ'), ('discipline', 'NN'), ('to', 'TO'), ('being', 'VBG'), ('the', 'DT'), ('basis', 'NN'), ('underlying', 'VBG'), ('most', 'JJS'), ('people’s', 'JJ'), ('preferred', 'JJ'), ('means', 'NNS'), ('of', 'IN'), ('information', 'NN'), ('access.', 'NN'), ('This', 'DT'), ('book', 'NN'), ('presents', 'VBZ'), ('the', 'DT'), ('scientific', 'JJ'), ('underpinnings', 'NNS'), ('of', 'IN'), ('this', 'DT'), ('field,', 'NN'), ('at', 'IN'), ('a', 'DT'), ('level', 'NN'), ('accessible', 'JJ'), ('to', 'TO'), ('graduate', 'VB'), ('students', 'NNS'), ('as', 'RB'), ('well', 'RB'), ('as', 'IN'), ('advanced', 'JJ'), ('undergraduates.', 'NN')]\n"
     ]
    }
   ],
   "source": [
    "print(tag_list)"
   ]
  },
  {
   "cell_type": "markdown",
   "id": "b53a778b",
   "metadata": {},
   "source": [
    "# count all tags"
   ]
  },
  {
   "cell_type": "code",
   "execution_count": 19,
   "id": "2eff3996",
   "metadata": {},
   "outputs": [
    {
     "name": "stdout",
     "output_type": "stream",
     "text": [
      "Counter({'NN': 36, 'IN': 22, 'JJ': 17, 'DT': 16, 'NNS': 13, 'RB': 8, 'VBZ': 7, 'TO': 6, 'NNP': 6, 'VBG': 5, 'JJS': 4, 'CD': 3, 'VBD': 3, 'VBN': 3, 'VBP': 3, 'CC': 2, 'VB': 2, 'PRP$': 1, 'WRB': 1, 'RBS': 1, 'WP': 1, 'FW': 1})\n"
     ]
    }
   ],
   "source": [
    "from collections import Counter\n",
    "num_of_tags = Counter(tag for word, tag in tag_list);\n",
    "print(num_of_tags)"
   ]
  },
  {
   "cell_type": "markdown",
   "id": "4c387cbe",
   "metadata": {},
   "source": [
    "# count nouns by iteration on tag_list"
   ]
  },
  {
   "cell_type": "code",
   "execution_count": 20,
   "id": "17f9808f",
   "metadata": {},
   "outputs": [
    {
     "name": "stdout",
     "output_type": "stream",
     "text": [
      "number of nouns is :  36\n"
     ]
    }
   ],
   "source": [
    "count=0\n",
    "for item in tag_list:\n",
    "        if item [1]=='NN':\n",
    "            count+=1\n",
    "print (\"number of nouns is : \",count)      "
   ]
  },
  {
   "cell_type": "markdown",
   "id": "690fc727",
   "metadata": {},
   "source": [
    "# another way to count nouns "
   ]
  },
  {
   "cell_type": "code",
   "execution_count": 21,
   "id": "abd6e369",
   "metadata": {},
   "outputs": [
    {
     "name": "stdout",
     "output_type": "stream",
     "text": [
      "Counter({'NN': 36})\n"
     ]
    }
   ],
   "source": [
    "from collections import Counter\n",
    "list =[]\n",
    "for element in tag_list:\n",
    "    if element[1]=='NN':\n",
    "        list.append(element[1])\n",
    "\n",
    "counter = Counter(list)\n",
    "print(counter)"
   ]
  }
 ],
 "metadata": {
  "kernelspec": {
   "display_name": "Python 3",
   "language": "python",
   "name": "python3"
  },
  "language_info": {
   "codemirror_mode": {
    "name": "ipython",
    "version": 3
   },
   "file_extension": ".py",
   "mimetype": "text/x-python",
   "name": "python",
   "nbconvert_exporter": "python",
   "pygments_lexer": "ipython3",
   "version": "3.8.8"
  }
 },
 "nbformat": 4,
 "nbformat_minor": 5
}

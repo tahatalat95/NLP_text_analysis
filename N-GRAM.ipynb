{
 "cells": [
  {
   "cell_type": "code",
   "execution_count": 2,
   "id": "d0ac0efd",
   "metadata": {},
   "outputs": [],
   "source": [
    "import nltk\n",
    "from nltk.tokenize import sent_tokenize, word_tokenize"
   ]
  },
  {
   "cell_type": "code",
   "execution_count": 3,
   "id": "becf840b",
   "metadata": {},
   "outputs": [],
   "source": [
    "test_data = \"\"\"As recently as the 1990s, studies showed that most people preferred getting\n",
    "information from other people rather than from information retrieval systems. Of course, in that time period, most people also used human travel\n",
    "agents to book their travel. However, during the last decade, relentless optimization of information retrieval effectiveness has driven web search engines\n",
    "to new quality levels where most people are satisfied most of the time, and\n",
    "web search has become a standard and often preferred source of information\n",
    "finding. For example, the 2004 Pew Internet Survey (Fallows 2004) found\n",
    "that “92% of Internet users say the Internet is a good place to go for getting\n",
    "everyday information.” To the surprise of many, the field of information retrieval has moved from being a primarily academic discipline to being the\n",
    "basis underlying most people’s preferred means of information access. This\n",
    "book presents the scientific underpinnings of this field, at a level accessible\n",
    "to graduate students as well as advanced undergraduates.\"\"\""
   ]
  },
  {
   "cell_type": "code",
   "execution_count": 4,
   "id": "d60c83e4",
   "metadata": {},
   "outputs": [
    {
     "name": "stdout",
     "output_type": "stream",
     "text": [
      "['As', 'recently', 'as', 'the', '1990s', ',', 'studies', 'showed', 'that', 'most', 'people', 'preferred', 'getting', 'information', 'from', 'other', 'people', 'rather', 'than', 'from', 'information', 'retrieval', 'systems', '.', 'Of', 'course', ',', 'in', 'that', 'time', 'period', ',', 'most', 'people', 'also', 'used', 'human', 'travel', 'agents', 'to', 'book', 'their', 'travel', '.', 'However', ',', 'during', 'the', 'last', 'decade', ',', 'relentless', 'optimization', 'of', 'information', 'retrieval', 'effectiveness', 'has', 'driven', 'web', 'search', 'engines', 'to', 'new', 'quality', 'levels', 'where', 'most', 'people', 'are', 'satisfied', 'most', 'of', 'the', 'time', ',', 'and', 'web', 'search', 'has', 'become', 'a', 'standard', 'and', 'often', 'preferred', 'source', 'of', 'information', 'finding', '.', 'For', 'example', ',', 'the', '2004', 'Pew', 'Internet', 'Survey', '(', 'Fallows', '2004', ')', 'found', 'that', '“', '92', '%', 'of', 'Internet', 'users', 'say', 'the', 'Internet', 'is', 'a', 'good', 'place', 'to', 'go', 'for', 'getting', 'everyday', 'information.', '”', 'To', 'the', 'surprise', 'of', 'many', ',', 'the', 'field', 'of', 'information', 'retrieval', 'has', 'moved', 'from', 'being', 'a', 'primarily', 'academic', 'discipline', 'to', 'being', 'the', 'basis', 'underlying', 'most', 'people', '’', 's', 'preferred', 'means', 'of', 'information', 'access', '.', 'This', 'book', 'presents', 'the', 'scientific', 'underpinnings', 'of', 'this', 'field', ',', 'at', 'a', 'level', 'accessible', 'to', 'graduate', 'students', 'as', 'well', 'as', 'advanced', 'undergraduates', '.']\n"
     ]
    }
   ],
   "source": [
    "word_token=word_tokenize(test_data)\n",
    "print(word_token)"
   ]
  },
  {
   "cell_type": "code",
   "execution_count": 5,
   "id": "4a6b9cdd",
   "metadata": {},
   "outputs": [
    {
     "name": "stdout",
     "output_type": "stream",
     "text": [
      "['As recently as the 1990s, studies showed that most people preferred getting\\ninformation from other people rather than from information retrieval systems.', 'Of course, in that time period, most people also used human travel\\nagents to book their travel.', 'However, during the last decade, relentless optimization of information retrieval effectiveness has driven web search engines\\nto new quality levels where most people are satisfied most of the time, and\\nweb search has become a standard and often preferred source of information\\nfinding.', 'For example, the 2004 Pew Internet Survey (Fallows 2004) found\\nthat “92% of Internet users say the Internet is a good place to go for getting\\neveryday information.” To the surprise of many, the field of information retrieval has moved from being a primarily academic discipline to being the\\nbasis underlying most people’s preferred means of information access.', 'This\\nbook presents the scientific underpinnings of this field, at a level accessible\\nto graduate students as well as advanced undergraduates.']\n"
     ]
    }
   ],
   "source": [
    "sentence_token=sent_tokenize(test_data)\n",
    "print(sentence_token)"
   ]
  },
  {
   "cell_type": "code",
   "execution_count": 6,
   "id": "16ad6ee4",
   "metadata": {},
   "outputs": [
    {
     "name": "stdout",
     "output_type": "stream",
     "text": [
      " the uni gram tokenization : \n",
      "('Information',)\n",
      "('retrieval',)\n",
      "('did',)\n",
      "('not',)\n",
      "('begin',)\n",
      "('with',)\n",
      "('the',)\n",
      "('Web.',)\n",
      "('In',)\n",
      "('response',)\n",
      "('to',)\n",
      "('various',)\n",
      "('challenges',)\n",
      "('of',)\n",
      "('providing',)\n",
      "('information',)\n",
      "('access',)\n"
     ]
    }
   ],
   "source": [
    "test_data_2=\"\"\" Information retrieval did not begin with the Web. In response to various\n",
    "challenges of providing information access \"\"\";\n",
    "uni_gram=nltk.ngrams(test_data_2.split(),1)\n",
    "print (\" the uni gram tokenization : \")\n",
    "for term in uni_gram:\n",
    "    print(term)\n"
   ]
  },
  {
   "cell_type": "code",
   "execution_count": 7,
   "id": "bb319301",
   "metadata": {},
   "outputs": [
    {
     "name": "stdout",
     "output_type": "stream",
     "text": [
      " the pi gram tokenization : \n",
      "('Information', 'retrieval')\n",
      "('retrieval', 'did')\n",
      "('did', 'not')\n",
      "('not', 'begin')\n",
      "('begin', 'with')\n",
      "('with', 'the')\n",
      "('the', 'Web.')\n",
      "('Web.', 'In')\n",
      "('In', 'response')\n",
      "('response', 'to')\n",
      "('to', 'various')\n",
      "('various', 'challenges')\n",
      "('challenges', 'of')\n",
      "('of', 'providing')\n",
      "('providing', 'information')\n",
      "('information', 'access')\n"
     ]
    }
   ],
   "source": [
    "pi_gram=nltk.ngrams(test_data_2.split(),2)\n",
    "print (\" the pi gram tokenization : \")\n",
    "for term in pi_gram:\n",
    "    print(term)"
   ]
  },
  {
   "cell_type": "code",
   "execution_count": 8,
   "id": "99639cd8",
   "metadata": {},
   "outputs": [
    {
     "name": "stdout",
     "output_type": "stream",
     "text": [
      " the tri gram tokenization : \n",
      "('Information', 'retrieval', 'did')\n",
      "('retrieval', 'did', 'not')\n",
      "('did', 'not', 'begin')\n",
      "('not', 'begin', 'with')\n",
      "('begin', 'with', 'the')\n",
      "('with', 'the', 'Web.')\n",
      "('the', 'Web.', 'In')\n",
      "('Web.', 'In', 'response')\n",
      "('In', 'response', 'to')\n",
      "('response', 'to', 'various')\n",
      "('to', 'various', 'challenges')\n",
      "('various', 'challenges', 'of')\n",
      "('challenges', 'of', 'providing')\n",
      "('of', 'providing', 'information')\n",
      "('providing', 'information', 'access')\n"
     ]
    }
   ],
   "source": [
    "tri_gram=nltk.ngrams(test_data_2.split(),3)\n",
    "print (\" the tri gram tokenization : \")\n",
    "for term in tri_gram:\n",
    "    print(term)"
   ]
  },
  {
   "cell_type": "code",
   "execution_count": 9,
   "id": "2eeee059",
   "metadata": {},
   "outputs": [
    {
     "name": "stdout",
     "output_type": "stream",
     "text": [
      "Enter ngram value (mood): 7\n",
      "the 7th gram tokenization is : \n",
      "('Information', 'retrieval', 'did', 'not', 'begin', 'with', 'the')\n",
      "('retrieval', 'did', 'not', 'begin', 'with', 'the', 'Web.')\n",
      "('did', 'not', 'begin', 'with', 'the', 'Web.', 'In')\n",
      "('not', 'begin', 'with', 'the', 'Web.', 'In', 'response')\n",
      "('begin', 'with', 'the', 'Web.', 'In', 'response', 'to')\n",
      "('with', 'the', 'Web.', 'In', 'response', 'to', 'various')\n",
      "('the', 'Web.', 'In', 'response', 'to', 'various', 'challenges')\n",
      "('Web.', 'In', 'response', 'to', 'various', 'challenges', 'of')\n",
      "('In', 'response', 'to', 'various', 'challenges', 'of', 'providing')\n",
      "('response', 'to', 'various', 'challenges', 'of', 'providing', 'information')\n",
      "('to', 'various', 'challenges', 'of', 'providing', 'information', 'access')\n"
     ]
    }
   ],
   "source": [
    "val = int(input(\"Enter ngram value (mood): \"))\n",
    "ngram=nltk.ngrams(test_data_2.split(),val)\n",
    "print (\"the \" + str(val) + \"th gram tokenization is : \")\n",
    "for term in ngram:\n",
    "    print(term)"
   ]
  },
  {
   "cell_type": "code",
   "execution_count": null,
   "id": "b3d04983",
   "metadata": {},
   "outputs": [],
   "source": []
  }
 ],
 "metadata": {
  "kernelspec": {
   "display_name": "Python 3",
   "language": "python",
   "name": "python3"
  },
  "language_info": {
   "codemirror_mode": {
    "name": "ipython",
    "version": 3
   },
   "file_extension": ".py",
   "mimetype": "text/x-python",
   "name": "python",
   "nbconvert_exporter": "python",
   "pygments_lexer": "ipython3",
   "version": "3.8.8"
  }
 },
 "nbformat": 4,
 "nbformat_minor": 5
}
